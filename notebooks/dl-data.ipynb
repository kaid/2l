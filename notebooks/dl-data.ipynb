{
 "cells": [
  {
   "cell_type": "code",
   "execution_count": 1,
   "id": "initial_id",
   "metadata": {
    "collapsed": true,
    "ExecuteTime": {
     "end_time": "2023-08-02T11:51:57.942255Z",
     "start_time": "2023-08-02T11:51:57.737530Z"
    }
   },
   "outputs": [],
   "source": [
    "import numpy as np\n",
    "\n",
    "import models.abc_parser as abc"
   ]
  },
  {
   "cell_type": "code",
   "execution_count": 2,
   "outputs": [],
   "source": [
    "model = abc.AbcModel()"
   ],
   "metadata": {
    "collapsed": false,
    "ExecuteTime": {
     "end_time": "2023-08-02T11:51:57.947322Z",
     "start_time": "2023-08-02T11:51:57.946528Z"
    }
   },
   "id": "62bd99b1e0e4894f"
  },
  {
   "cell_type": "code",
   "execution_count": 3,
   "outputs": [],
   "source": [
    "# A\n",
    "a =[0, 0, 1, 1, 0, 0,\n",
    "   0, 1, 0, 0, 1, 0,\n",
    "   1, 1, 1, 1, 1, 1,\n",
    "   1, 0, 0, 0, 0, 1,\n",
    "   1, 0, 0, 0, 0, 1]\n",
    "# B\n",
    "b =[0, 1, 1, 1, 1, 0,\n",
    "   0, 1, 0, 0, 1, 0,\n",
    "   0, 1, 1, 1, 1, 0,\n",
    "   0, 1, 0, 0, 1, 0,\n",
    "   0, 1, 1, 1, 1, 0]\n",
    "# C\n",
    "c =[0, 1, 1, 1, 1, 0,\n",
    "   0, 1, 0, 0, 0, 0,\n",
    "   0, 1, 0, 0, 0, 0,\n",
    "   0, 1, 0, 0, 0, 0,\n",
    "   0, 1, 1, 1, 1, 0]\n",
    "\n",
    "# 标签\n",
    "labels = [[1, 0, 0],\n",
    "          [0, 1, 0],\n",
    "          [0, 0, 1]]"
   ],
   "metadata": {
    "collapsed": false,
    "ExecuteTime": {
     "end_time": "2023-08-02T11:51:57.958081Z",
     "start_time": "2023-08-02T11:51:57.948590Z"
    }
   },
   "id": "ef249fcc9ec854ce"
  },
  {
   "cell_type": "code",
   "execution_count": 4,
   "outputs": [],
   "source": [
    "input_data = [np.array(l).reshape(1, 30) for l in [a, b, c]]\n",
    "\n",
    "validation_data = np.array(labels)"
   ],
   "metadata": {
    "collapsed": false,
    "ExecuteTime": {
     "end_time": "2023-08-02T11:51:57.966821Z",
     "start_time": "2023-08-02T11:51:57.962030Z"
    }
   },
   "id": "c3fde1da82ab94db"
  },
  {
   "cell_type": "code",
   "execution_count": 5,
   "outputs": [
    {
     "ename": "ValueError",
     "evalue": "non-broadcastable output operand with shape (5,3) doesn't match the broadcast shape (5,5,3)",
     "output_type": "error",
     "traceback": [
      "\u001B[0;31m---------------------------------------------------------------------------\u001B[0m",
      "\u001B[0;31mValueError\u001B[0m                                Traceback (most recent call last)",
      "Cell \u001B[0;32mIn[5], line 1\u001B[0m\n\u001B[0;32m----> 1\u001B[0m \u001B[43mmodel\u001B[49m\u001B[38;5;241;43m.\u001B[39;49m\u001B[43mtrain\u001B[49m\u001B[43m(\u001B[49m\u001B[43minput_data\u001B[49m\u001B[43m,\u001B[49m\u001B[43m \u001B[49m\u001B[43mvalidation_data\u001B[49m\u001B[43m,\u001B[49m\u001B[43m \u001B[49m\u001B[38;5;241;43m0.1\u001B[39;49m\u001B[43m,\u001B[49m\u001B[43m \u001B[49m\u001B[38;5;241;43m100\u001B[39;49m\u001B[43m)\u001B[49m\n",
      "File \u001B[0;32m~/Workspace/Garden/dl-and-data/models/abc_parser.py:104\u001B[0m, in \u001B[0;36mAbcModel.train\u001B[0;34m(self, input_dataset, y_true, learning_rate, epoch)\u001B[0m\n\u001B[1;32m    102\u001B[0m     output_data \u001B[38;5;241m=\u001B[39m \u001B[38;5;28mself\u001B[39m\u001B[38;5;241m.\u001B[39mforward(input_data)\n\u001B[1;32m    103\u001B[0m     epoch_loss_list\u001B[38;5;241m.\u001B[39mappend(mse(label, output_data))\n\u001B[0;32m--> 104\u001B[0m     \u001B[38;5;28;43mself\u001B[39;49m\u001B[38;5;241;43m.\u001B[39;49m\u001B[43mback_propagation\u001B[49m\u001B[43m(\u001B[49m\u001B[43minput_data\u001B[49m\u001B[43m,\u001B[49m\u001B[43m \u001B[49m\u001B[43mlabel\u001B[49m\u001B[43m,\u001B[49m\u001B[43m \u001B[49m\u001B[43mlearning_rate\u001B[49m\u001B[43m)\u001B[49m\n\u001B[1;32m    105\u001B[0m accuracy_list\u001B[38;5;241m.\u001B[39mappend((\u001B[38;5;241m1\u001B[39m \u001B[38;5;241m-\u001B[39m \u001B[38;5;28msum\u001B[39m(epoch_loss_list) \u001B[38;5;241m/\u001B[39m input_dataset_size) \u001B[38;5;241m*\u001B[39m \u001B[38;5;241m100\u001B[39m)\n\u001B[1;32m    106\u001B[0m loss_list\u001B[38;5;241m.\u001B[39mappend(\u001B[38;5;28msum\u001B[39m(epoch_loss_list) \u001B[38;5;241m/\u001B[39m input_dataset_size)\n",
      "File \u001B[0;32m~/Workspace/Garden/dl-and-data/models/abc_parser.py:83\u001B[0m, in \u001B[0;36mAbcModel.back_propagation\u001B[0;34m(self, input_data, y_true, learning_rate)\u001B[0m\n\u001B[1;32m     80\u001B[0m hidden_error_gradient \u001B[38;5;241m=\u001B[39m hidden_error \u001B[38;5;241m*\u001B[39m (hidden \u001B[38;5;241m*\u001B[39m (\u001B[38;5;241m1\u001B[39m \u001B[38;5;241m-\u001B[39m hidden))\n\u001B[1;32m     82\u001B[0m \u001B[38;5;66;03m# 更新权重\u001B[39;00m\n\u001B[0;32m---> 83\u001B[0m \u001B[38;5;28;43mself\u001B[39;49m\u001B[38;5;241;43m.\u001B[39;49m\u001B[43mweight2\u001B[49m\u001B[43m \u001B[49m\u001B[38;5;241;43m+\u001B[39;49m\u001B[38;5;241;43m=\u001B[39;49m\u001B[43m \u001B[49m\u001B[43mlearning_rate\u001B[49m\u001B[43m \u001B[49m\u001B[38;5;241;43m*\u001B[39;49m\u001B[43m \u001B[49m\u001B[43mnp\u001B[49m\u001B[38;5;241;43m.\u001B[39;49m\u001B[43mdot\u001B[49m\u001B[43m(\u001B[49m\u001B[43mhidden\u001B[49m\u001B[38;5;241;43m.\u001B[39;49m\u001B[43mT\u001B[49m\u001B[43m,\u001B[49m\u001B[43m \u001B[49m\u001B[43moutput_error_gradient\u001B[49m\u001B[43m)\u001B[49m\n\u001B[1;32m     84\u001B[0m \u001B[38;5;28mself\u001B[39m\u001B[38;5;241m.\u001B[39mweight1 \u001B[38;5;241m+\u001B[39m\u001B[38;5;241m=\u001B[39m learning_rate \u001B[38;5;241m*\u001B[39m np\u001B[38;5;241m.\u001B[39mdot(input_data\u001B[38;5;241m.\u001B[39mT, hidden_error_gradient)\n\u001B[1;32m     86\u001B[0m \u001B[38;5;28;01mreturn\u001B[39;00m mse(y_true, output)\n",
      "\u001B[0;31mValueError\u001B[0m: non-broadcastable output operand with shape (5,3) doesn't match the broadcast shape (5,5,3)"
     ]
    }
   ],
   "source": [
    "model.train(input_data, validation_data, 0.1, 100)"
   ],
   "metadata": {
    "collapsed": false,
    "ExecuteTime": {
     "end_time": "2023-08-02T11:51:58.472798Z",
     "start_time": "2023-08-02T11:51:57.971967Z"
    }
   },
   "id": "8415470fb63f0a0b"
  }
 ],
 "metadata": {
  "kernelspec": {
   "display_name": "Python 3",
   "language": "python",
   "name": "python3"
  },
  "language_info": {
   "codemirror_mode": {
    "name": "ipython",
    "version": 2
   },
   "file_extension": ".py",
   "mimetype": "text/x-python",
   "name": "python",
   "nbconvert_exporter": "python",
   "pygments_lexer": "ipython2",
   "version": "2.7.6"
  }
 },
 "nbformat": 4,
 "nbformat_minor": 5
}
